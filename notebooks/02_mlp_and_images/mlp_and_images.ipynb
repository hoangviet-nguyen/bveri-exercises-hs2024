{
 "cells": [
  {
   "cell_type": "code",
   "execution_count": 5,
   "metadata": {
    "nbgrader": {
     "grade": false,
     "grade_id": "header",
     "locked": true,
     "schema_version": 3,
     "solution": false,
     "task": false
    },
    "tags": []
   },
   "outputs": [],
   "source": [
    "%load_ext autoreload\n",
    "%autoreload 2\n",
    "\n",
    "from IPython.core.interactiveshell import InteractiveShell\n",
    "\n",
    "InteractiveShell.ast_node_interactivity = \"all\"\n",
    "\n",
    "try:\n",
    "    import jupyter_black\n",
    "\n",
    "    jupyter_black.load()\n",
    "except:\n",
    "    print(\"black not installed\")"
   ]
  },
  {
   "cell_type": "markdown",
   "metadata": {
    "nbgrader": {
     "grade": false,
     "grade_id": "title",
     "locked": true,
     "schema_version": 3,
     "solution": false,
     "task": false
    },
    "tags": []
   },
   "source": [
    "# Multilayer-Perceptron and Images\n",
    "\n",
    "## Goals\n",
    "\n",
    "- Train an MLP and understand how it works on images"
   ]
  },
  {
   "cell_type": "markdown",
   "metadata": {
    "nbgrader": {
     "grade": false,
     "grade_id": "cell-a9856bbf98ea570f",
     "locked": true,
     "schema_version": 3,
     "solution": false,
     "task": false
    }
   },
   "source": [
    "## Setup\n",
    "\n",
    "Let's define paths, install & load the necessary Python packages.\n",
    "\n",
    "**Optionally: Save the notebook to your personal google drive to persist changes.**"
   ]
  },
  {
   "cell_type": "markdown",
   "metadata": {},
   "source": [
    "Mount your google drive to store data and results (if running the code in Google Colab)."
   ]
  },
  {
   "cell_type": "code",
   "execution_count": 6,
   "metadata": {},
   "outputs": [
    {
     "name": "stdout",
     "output_type": "stream",
     "text": [
      "In colab: False\n"
     ]
    }
   ],
   "source": [
    "try:\n",
    "    import google.colab\n",
    "\n",
    "    IN_COLAB = True\n",
    "except:\n",
    "    IN_COLAB = False\n",
    "\n",
    "print(f\"In colab: {IN_COLAB}\")"
   ]
  },
  {
   "cell_type": "code",
   "execution_count": 7,
   "metadata": {},
   "outputs": [],
   "source": [
    "if IN_COLAB:\n",
    "    from google.colab import drive\n",
    "\n",
    "    drive.mount(\"/content/drive\")"
   ]
  },
  {
   "cell_type": "markdown",
   "metadata": {},
   "source": [
    "**Modify the following paths if necessary.**\n",
    "\n",
    "That is where your data will be stored."
   ]
  },
  {
   "cell_type": "code",
   "execution_count": 8,
   "metadata": {},
   "outputs": [],
   "source": [
    "from pathlib import Path\n",
    "\n",
    "if IN_COLAB:\n",
    "    DATA_PATH = Path(\"/content/drive/MyDrive/bveri\")\n",
    "else:\n",
    "    DATA_PATH = Path(\"/workspace/code/data\")"
   ]
  },
  {
   "cell_type": "markdown",
   "metadata": {},
   "source": [
    "Install the package `dl_cv_lectures`.\n",
    "\n",
    "The following code installs the package from a local repository (if available), otherwise it installs it from the exercise repository."
   ]
  },
  {
   "cell_type": "code",
   "execution_count": 9,
   "metadata": {},
   "outputs": [
    {
     "name": "stdout",
     "output_type": "stream",
     "text": [
      "dl_cv_lectures installed, all good\n"
     ]
    }
   ],
   "source": [
    "try:\n",
    "    import dl_cv_lectures\n",
    "\n",
    "    print(\"dl_cv_lectures installed, all good\")\n",
    "except ImportError as e:\n",
    "    import os\n",
    "\n",
    "    if Path(\"/workspace/code/src\").exists():\n",
    "        print(\"Installing from local repo\")\n",
    "        os.system(\"cd /workspace/code  && pip install .\")\n",
    "    else:\n",
    "        print(\"Installing from git repo\")\n",
    "        os.system(\"pip install git+https://github.com/i4Ds/bveri-exercises-hs2024\")"
   ]
  },
  {
   "cell_type": "markdown",
   "metadata": {},
   "source": [
    "Load all packages"
   ]
  },
  {
   "cell_type": "code",
   "execution_count": 10,
   "metadata": {},
   "outputs": [],
   "source": [
    "import math\n",
    "import random\n",
    "from typing import Callable\n",
    "\n",
    "import torch\n",
    "import torch.nn as nn\n",
    "import torch.nn.functional as F\n",
    "import torchinfo\n",
    "import torchshow as ts\n",
    "import torchvision\n",
    "from matplotlib import pyplot as plt\n",
    "from PIL import Image\n",
    "from sklearn.metrics import ConfusionMatrixDisplay, confusion_matrix\n",
    "from torchvision import transforms\n",
    "from torchvision.transforms.v2 import functional as TF\n",
    "from torchvision.utils import make_grid\n",
    "from tqdm.notebook import tqdm"
   ]
  },
  {
   "cell_type": "markdown",
   "metadata": {},
   "source": [
    "Define a default device for your computations."
   ]
  },
  {
   "cell_type": "code",
   "execution_count": 11,
   "metadata": {},
   "outputs": [
    {
     "name": "stdout",
     "output_type": "stream",
     "text": [
      "Using: cpu\n"
     ]
    }
   ],
   "source": [
    "device = torch.device(\"cuda\" if torch.cuda.is_available() else \"cpu\")\n",
    "print(f\"Using: {device}\")"
   ]
  },
  {
   "cell_type": "markdown",
   "metadata": {},
   "source": [
    "## 1) Define Data, Loaders, and MLP\n",
    "\n",
    "Quickly get data and train an MLP.\n",
    "\n",
    "We use some pre-defined functionality from the `dl_cv_lectures` package. Feel free to substitute with your own functionality. "
   ]
  },
  {
   "cell_type": "code",
   "execution_count": 12,
   "metadata": {},
   "outputs": [],
   "source": [
    "from dl_cv_lectures import visualize\n",
    "from dl_cv_lectures.classification import train_one_epoch\n",
    "from dl_cv_lectures.data import pattern"
   ]
  },
  {
   "cell_type": "markdown",
   "metadata": {},
   "source": [
    "## Data\n",
    "\n",
    "We use a dataset that consists of inspection images of microscopic components. Some of them are faulty (label=1) and need to be identified and sorted out.\n",
    "\n",
    "Lets load the data and take a look at it.\n",
    "\n",
    "First we create a [torch.utils.data.Dataset](https://pytorch.org/docs/stable/data.html#torch.utils.data.Dataset)."
   ]
  },
  {
   "cell_type": "code",
   "execution_count": 13,
   "metadata": {},
   "outputs": [],
   "source": [
    "ds_train = pattern.PatternDataset(\n",
    "    num_samples=100, image_side_length=16, seed=123, max_errors=3, max_x_y_shift=0\n",
    ")"
   ]
  },
  {
   "cell_type": "markdown",
   "metadata": {},
   "source": [
    "Let's take a look at the first observation."
   ]
  },
  {
   "cell_type": "code",
   "execution_count": 14,
   "metadata": {},
   "outputs": [
    {
     "data": {
      "text/plain": [
       "(16, 16)"
      ]
     },
     "execution_count": 14,
     "metadata": {},
     "output_type": "execute_result"
    },
    {
     "data": {
      "image/jpeg": "[encoded data removed]",
      "image/png": "[encoded data removed]",
      "text/plain": [
       "<PIL.Image.Image image mode=L size=16x16>"
      ]
     },
     "execution_count": 14,
     "metadata": {},
     "output_type": "execute_result"
    }
   ],
   "source": [
    "image, label = ds_train[0]\n",
    "image.size\n",
    "image"
   ]
  },
  {
   "cell_type": "markdown",
   "metadata": {},
   "source": [
    "We collect a few samples, visualize them and try to understand how label and images are related."
   ]
  },
  {
   "cell_type": "code",
   "execution_count": 15,
   "metadata": {},
   "outputs": [],
   "source": [
    "def get_images_and_labels_from_ds(\n",
    "    ds: torch.utils.data.Dataset, num_images_to_fetch: int = 16\n",
    ") -> list[torch.Tensor]:\n",
    "    \"\"\"Fetch first n images from a torch.utils.data.Dataset with (image, label) signature.\"\"\"\n",
    "    # for each image: convert it to (C x H x W) format and scale to 0-1\n",
    "    images = [\n",
    "        TF.to_image(ds[i][0]).to(torch.float32) / 255.0\n",
    "        for i in range(0, num_images_to_fetch)\n",
    "    ]\n",
    "    labels = [ds[i][1] for i in range(0, num_images_to_fetch)]\n",
    "    return images, labels"
   ]
  },
  {
   "cell_type": "code",
   "execution_count": 16,
   "metadata": {},
   "outputs": [
    {
     "data": {
      "image/png": "[encoded data removed]",
      "text/plain": [
       "<Figure size 800x800 with 16 Axes>"
      ]
     },
     "metadata": {},
     "output_type": "display_data"
    }
   ],
   "source": [
    "images, labels = get_images_and_labels_from_ds(ds_train, num_images_to_fetch=16)\n",
    "\n",
    "fig, ax = visualize.plot_square_collage_with_captions(\n",
    "    images, [f\"Label: {label}\" for label in labels], global_normalize=True\n",
    ")\n",
    "plt.tight_layout()"
   ]
  },
  {
   "cell_type": "markdown",
   "metadata": {},
   "source": [
    "**Question**: When is a pattern label=0, when is it label=1?\n",
    "\n",
    "The pattern has a label of 0 when it is not T-shaped else it is 1 "
   ]
  },
  {
   "cell_type": "markdown",
   "metadata": {},
   "source": [
    "## MLP Architecture\n",
    "\n",
    "Next, we define an MLP."
   ]
  },
  {
   "cell_type": "code",
   "execution_count": 17,
   "metadata": {},
   "outputs": [],
   "source": [
    "class MLP(nn.Module):\n",
    "    \"\"\"A Multi-Layer Perceptron (MLP) model for classification.\"\"\"\n",
    "\n",
    "    def __init__(\n",
    "        self,\n",
    "        num_hidden: int,\n",
    "        num_classes: int,\n",
    "        input_size: tuple[int, int, int] = (1, 28, 28),\n",
    "    ):\n",
    "        \"\"\"\n",
    "        Args:\n",
    "            num_hidden (int): Number of neurons in the hidden layer.\n",
    "            num_classes (int): Number of output classes for classification.\n",
    "            input_size tuple[int, int, int]: The dimensions of the input image.\n",
    "        \"\"\"\n",
    "        super().__init__()\n",
    "        # Flatten the input image into a 1D tensor\n",
    "        self.flatten = nn.Flatten()\n",
    "\n",
    "        # Hidden layer: fully connected layer from input_size to num_hidden neurons.\n",
    "        self.hidden = nn.Linear(\n",
    "            in_features=input_size[0] * input_size[1] * input_size[2],\n",
    "            out_features=num_hidden,\n",
    "            bias=True,\n",
    "        )\n",
    "\n",
    "        # Output layer: fully connected layer from num_hidden neurons to num_classes outputs.\n",
    "        self.output = nn.Linear(in_features=num_hidden, out_features=num_classes)\n",
    "\n",
    "    def forward(self, x):\n",
    "        \"\"\"\n",
    "        Forward pass through the MLP model.\n",
    "\n",
    "        Args:\n",
    "            x (torch.Tensor): Input tensor (batch_size, channels, height, width).\n",
    "\n",
    "        Returns:\n",
    "            torch.Tensor: Output logits (before softmax).\n",
    "        \"\"\"\n",
    "        # Flatten the input tensor into (batch_size, input_size[0] * input_size[1])\n",
    "        x = self.flatten(x)\n",
    "\n",
    "        # Apply the hidden layer (linear transformation)\n",
    "        x = self.hidden(x)\n",
    "\n",
    "        # Apply ReLU activation function to introduce non-linearity\n",
    "        x = F.relu(x)\n",
    "\n",
    "        # Apply the output layer (linear transformation) to get the logits\n",
    "        x = self.output(x)\n",
    "\n",
    "        # Return the output logits (not yet passed through softmax)\n",
    "        return x"
   ]
  },
  {
   "cell_type": "markdown",
   "metadata": {},
   "source": [
    "Lets initialize the model and inspect it using `torchinfo`"
   ]
  },
  {
   "cell_type": "code",
   "execution_count": 18,
   "metadata": {},
   "outputs": [
    {
     "data": {
      "text/plain": [
       "<torch._C.Generator at 0x2173bd47990>"
      ]
     },
     "execution_count": 18,
     "metadata": {},
     "output_type": "execute_result"
    },
    {
     "name": "stdout",
     "output_type": "stream",
     "text": [
      "MLP(\n",
      "  (flatten): Flatten(start_dim=1, end_dim=-1)\n",
      "  (hidden): Linear(in_features=256, out_features=16, bias=True)\n",
      "  (output): Linear(in_features=16, out_features=2, bias=True)\n",
      ")\n",
      "==========================================================================================\n",
      "Layer (type:depth-idx)                   Output Shape              Param #\n",
      "==========================================================================================\n",
      "MLP                                      [1, 2]                    --\n",
      "├─Flatten: 1-1                           [1, 256]                  --\n",
      "├─Linear: 1-2                            [1, 16]                   4,112\n",
      "├─Linear: 1-3                            [1, 2]                    34\n",
      "==========================================================================================\n",
      "Total params: 4,146\n",
      "Trainable params: 4,146\n",
      "Non-trainable params: 0\n",
      "Total mult-adds (Units.MEGABYTES): 0.00\n",
      "==========================================================================================\n",
      "Input size (MB): 0.00\n",
      "Forward/backward pass size (MB): 0.00\n",
      "Params size (MB): 0.02\n",
      "Estimated Total Size (MB): 0.02\n",
      "==========================================================================================\n"
     ]
    }
   ],
   "source": [
    "torch.manual_seed(123)\n",
    "net = MLP(num_hidden=16, num_classes=2, input_size=(1, 16, 16))\n",
    "print(net)\n",
    "print(torchinfo.summary(net, input_size=(1, 1, 16, 16)))"
   ]
  },
  {
   "cell_type": "markdown",
   "metadata": {},
   "source": [
    "Now we define loss function and optimizer."
   ]
  },
  {
   "cell_type": "code",
   "execution_count": 19,
   "metadata": {},
   "outputs": [],
   "source": [
    "loss_fn = nn.CrossEntropyLoss()\n",
    "optimizer = torch.optim.SGD(net.parameters(), lr=1e-1, weight_decay=1e-3)"
   ]
  },
  {
   "cell_type": "markdown",
   "metadata": {},
   "source": [
    "Next, we define the training dataset and dataloader."
   ]
  },
  {
   "cell_type": "code",
   "execution_count": 20,
   "metadata": {},
   "outputs": [],
   "source": [
    "image_transforms = transforms.Compose(\n",
    "    [\n",
    "        transforms.ToTensor(),\n",
    "    ]\n",
    ")\n",
    "\n",
    "\n",
    "ds_train = pattern.PatternDataset(\n",
    "    num_samples=100000,\n",
    "    seed=123,\n",
    "    max_errors=3,\n",
    "    max_x_y_shift=0,\n",
    "    transform=image_transforms,\n",
    ")\n",
    "\n",
    "dl_train = torch.utils.data.DataLoader(\n",
    "    ds_train, batch_size=128, shuffle=True, num_workers=4\n",
    ")"
   ]
  },
  {
   "cell_type": "markdown",
   "metadata": {},
   "source": [
    "## Model Training\n",
    "\n",
    "That's it! We are ready to train our model."
   ]
  },
  {
   "cell_type": "code",
   "execution_count": 21,
   "metadata": {},
   "outputs": [
    {
     "name": "stdout",
     "output_type": "stream",
     "text": [
      "Starting Epoch: 1 / 3\n"
     ]
    },
    {
     "data": {
      "application/vnd.jupyter.widget-view+json": {
       "model_id": "a0ed279e8d3d47b39f4577aba83c45a5",
       "version_major": 2,
       "version_minor": 0
      },
      "text/plain": [
       "  0%|          | 0/782 [00:00<?, ?batch/s]"
      ]
     },
     "metadata": {},
     "output_type": "display_data"
    },
    {
     "name": "stdout",
     "output_type": "stream",
     "text": [
      "Starting Epoch: 2 / 3\n"
     ]
    },
    {
     "data": {
      "application/vnd.jupyter.widget-view+json": {
       "model_id": "053b16c961c8407693eec409fbde39b1",
       "version_major": 2,
       "version_minor": 0
      },
      "text/plain": [
       "  0%|          | 0/782 [00:00<?, ?batch/s]"
      ]
     },
     "metadata": {},
     "output_type": "display_data"
    },
    {
     "name": "stdout",
     "output_type": "stream",
     "text": [
      "Starting Epoch: 3 / 3\n"
     ]
    },
    {
     "data": {
      "application/vnd.jupyter.widget-view+json": {
       "model_id": "b4ebe2a8cef04a21ae62dc9c0b6fdef7",
       "version_major": 2,
       "version_minor": 0
      },
      "text/plain": [
       "  0%|          | 0/782 [00:00<?, ?batch/s]"
      ]
     },
     "metadata": {},
     "output_type": "display_data"
    }
   ],
   "source": [
    "total_epochs = 3\n",
    "for epoch in range(0, total_epochs):\n",
    "    print(f\"Starting Epoch: {epoch + 1} / {total_epochs}\")\n",
    "    train_one_epoch(dl_train, net, optimizer, loss_fn, device=device)"
   ]
  },
  {
   "cell_type": "markdown",
   "metadata": {},
   "source": [
    "## 2) Analyse MLP properties\n",
    "\n",
    "Now it is getting interesting! \n",
    "\n",
    "We want to inspect the weights of the MLP.\n",
    "\n",
    "We can access the layers of our model by the attributes that we defined.\n",
    "\n",
    "For example we can access the attribute `hidden` of our `MLP`  object."
   ]
  },
  {
   "cell_type": "code",
   "execution_count": 22,
   "metadata": {},
   "outputs": [
    {
     "data": {
      "text/plain": [
       "torch.Size([16, 256])"
      ]
     },
     "execution_count": 22,
     "metadata": {},
     "output_type": "execute_result"
    }
   ],
   "source": [
    "weights = net.hidden.weight\n",
    "weights.shape"
   ]
  },
  {
   "cell_type": "markdown",
   "metadata": {},
   "source": [
    "The weight matrix $\\mathbf{W}$ is multiplied with an image $\\mathbf{x}$ to produce the layer activations $\\mathbf{a}$ with: $\\mathbf{a} = \\mathbf{x} \\mathbf{W}^T + \\mathbf{b}$\n",
    "\n",
    "We can see that the hidden layer has 16 neurons, each of which is connected to all input neurons.\n",
    "\n",
    "Each row in $\\mathbf{W}$ can be visualized as an image. We need to reshape it accordingly."
   ]
  },
  {
   "cell_type": "markdown",
   "metadata": {},
   "source": [
    "**Question**: What do you expect to see when visualizing the weights?\n",
    "\n",
    "I expect to see maybe simple shapes but nothing sensible because the weights of 1 Hidden Layer can't grasp much of the image"
   ]
  },
  {
   "cell_type": "code",
   "execution_count": 23,
   "metadata": {},
   "outputs": [
    {
     "data": {
      "image/png": "[encoded data removed]",
      "text/plain": [
       "<Figure size 1200x1200 with 1 Axes>"
      ]
     },
     "metadata": {},
     "output_type": "display_data"
    }
   ],
   "source": [
    "def visualize_weights(\n",
    "    weights: torch.Tensor, figsize: tuple[int, int] = (12, 12), scale_each: bool = True\n",
    "):\n",
    "    num_neurons = weights.shape[0]\n",
    "    dim = weights.shape[1]\n",
    "\n",
    "    side_length = int(math.sqrt(dim))\n",
    "\n",
    "    weights = weights.reshape(num_neurons, 1, side_length, side_length)\n",
    "\n",
    "    nrow = int(math.sqrt(num_neurons))\n",
    "    image_grid = TF.to_pil_image(\n",
    "        make_grid(weights, nrow=nrow, normalize=True, scale_each=scale_each)\n",
    "    )\n",
    "\n",
    "    fig, ax = plt.subplots(figsize=figsize)\n",
    "    _ = ax.imshow(image_grid, cmap=\"Greys_r\")\n",
    "    _ = ax.axis(\"off\")\n",
    "    plt.show()\n",
    "\n",
    "\n",
    "visualize_weights(weights, scale_each=False)"
   ]
  },
  {
   "cell_type": "markdown",
   "metadata": {},
   "source": [
    "**Question**: How do you interpret the weights? How does it match with your expectations?\n",
    "\n",
    "The weights pick up on the shapes of the pattern. It also picks up on the lighting with some weights having a strong white Patterns and others having strong black."
   ]
  },
  {
   "cell_type": "markdown",
   "metadata": {},
   "source": [
    "**Question**: What happens if we reduce the hidden layer to just 2 neurons?"
   ]
  },
  {
   "cell_type": "code",
   "execution_count": 24,
   "metadata": {},
   "outputs": [
    {
     "data": {
      "text/plain": [
       "<torch._C.Generator at 0x2173bd47990>"
      ]
     },
     "execution_count": 24,
     "metadata": {},
     "output_type": "execute_result"
    },
    {
     "name": "stdout",
     "output_type": "stream",
     "text": [
      "Starting Epoch: 1 / 5\n"
     ]
    },
    {
     "data": {
      "application/vnd.jupyter.widget-view+json": {
       "model_id": "4c8cf57346d34b229325204a2e6b9a9a",
       "version_major": 2,
       "version_minor": 0
      },
      "text/plain": [
       "  0%|          | 0/782 [00:00<?, ?batch/s]"
      ]
     },
     "metadata": {},
     "output_type": "display_data"
    },
    {
     "name": "stdout",
     "output_type": "stream",
     "text": [
      "Starting Epoch: 2 / 5\n"
     ]
    },
    {
     "data": {
      "application/vnd.jupyter.widget-view+json": {
       "model_id": "01e98b489c844ecaa3194bba07e2f039",
       "version_major": 2,
       "version_minor": 0
      },
      "text/plain": [
       "  0%|          | 0/782 [00:00<?, ?batch/s]"
      ]
     },
     "metadata": {},
     "output_type": "display_data"
    },
    {
     "name": "stdout",
     "output_type": "stream",
     "text": [
      "Starting Epoch: 3 / 5\n"
     ]
    },
    {
     "data": {
      "application/vnd.jupyter.widget-view+json": {
       "model_id": "e9e0f0ea58184824be640ab7303d00a7",
       "version_major": 2,
       "version_minor": 0
      },
      "text/plain": [
       "  0%|          | 0/782 [00:00<?, ?batch/s]"
      ]
     },
     "metadata": {},
     "output_type": "display_data"
    },
    {
     "name": "stdout",
     "output_type": "stream",
     "text": [
      "Starting Epoch: 4 / 5\n"
     ]
    },
    {
     "data": {
      "application/vnd.jupyter.widget-view+json": {
       "model_id": "3e371a55a72b44d2839526270edbb681",
       "version_major": 2,
       "version_minor": 0
      },
      "text/plain": [
       "  0%|          | 0/782 [00:00<?, ?batch/s]"
      ]
     },
     "metadata": {},
     "output_type": "display_data"
    },
    {
     "name": "stdout",
     "output_type": "stream",
     "text": [
      "Starting Epoch: 5 / 5\n"
     ]
    },
    {
     "data": {
      "application/vnd.jupyter.widget-view+json": {
       "model_id": "eef33c479a384b8ab19fe8f74e7bf875",
       "version_major": 2,
       "version_minor": 0
      },
      "text/plain": [
       "  0%|          | 0/782 [00:00<?, ?batch/s]"
      ]
     },
     "metadata": {},
     "output_type": "display_data"
    }
   ],
   "source": [
    "torch.manual_seed(123)\n",
    "net = MLP(num_hidden=2, num_classes=2, input_size=(1, 16, 16))\n",
    "dl_train = torch.utils.data.DataLoader(\n",
    "    ds_train, batch_size=128, shuffle=True, num_workers=4\n",
    ")\n",
    "optimizer = torch.optim.SGD(net.parameters(), lr=1e-1, weight_decay=1e-3)\n",
    "total_epochs = 5\n",
    "for epoch in range(0, total_epochs):\n",
    "    print(f\"Starting Epoch: {epoch + 1} / {total_epochs}\")\n",
    "    train_one_epoch(dl_train, net, optimizer, loss_fn)"
   ]
  },
  {
   "cell_type": "code",
   "execution_count": 25,
   "metadata": {},
   "outputs": [
    {
     "data": {
      "image/png": "[encoded data removed]",
      "text/plain": [
       "<Figure size 1200x1200 with 1 Axes>"
      ]
     },
     "metadata": {},
     "output_type": "display_data"
    }
   ],
   "source": [
    "visualize_weights(net.hidden.weight, scale_each=False)"
   ]
  },
  {
   "cell_type": "markdown",
   "metadata": {},
   "source": [
    "# 3) What if?\n",
    "\n",
    "What if we make it a bit more difficult and let the pattern randomly shift spatially?"
   ]
  },
  {
   "cell_type": "code",
   "execution_count": 26,
   "metadata": {},
   "outputs": [],
   "source": [
    "ds_train = pattern.PatternDataset(\n",
    "    num_samples=100000, seed=123, max_errors=3, max_x_y_shift=1\n",
    ")"
   ]
  },
  {
   "cell_type": "code",
   "execution_count": 27,
   "metadata": {},
   "outputs": [
    {
     "data": {
      "image/png": "[encoded data removed]",
      "text/plain": [
       "<Figure size 800x800 with 16 Axes>"
      ]
     },
     "metadata": {},
     "output_type": "display_data"
    }
   ],
   "source": [
    "images, labels = get_images_and_labels_from_ds(ds_train, num_images_to_fetch=16)\n",
    "\n",
    "fig, ax = visualize.plot_square_collage_with_captions(\n",
    "    images, [f\"Label: {label}\" for label in labels], global_normalize=True\n",
    ")\n",
    "plt.tight_layout()"
   ]
  },
  {
   "cell_type": "markdown",
   "metadata": {},
   "source": [
    "**Question**: Is this a more difficult problem? How will the weights differ from the simpler case?\n",
    "\n",
    "This is a more difficult problem because all the pixel values changes and the neural network has to pick up more nuisances of the image"
   ]
  },
  {
   "cell_type": "code",
   "execution_count": 28,
   "metadata": {},
   "outputs": [
    {
     "data": {
      "text/plain": [
       "<torch._C.Generator at 0x2173bd47990>"
      ]
     },
     "execution_count": 28,
     "metadata": {},
     "output_type": "execute_result"
    },
    {
     "name": "stdout",
     "output_type": "stream",
     "text": [
      "Starting Epoch: 1 / 5\n"
     ]
    },
    {
     "data": {
      "application/vnd.jupyter.widget-view+json": {
       "model_id": "da4c793699f449d283f5fb5c70e6e046",
       "version_major": 2,
       "version_minor": 0
      },
      "text/plain": [
       "  0%|          | 0/782 [00:00<?, ?batch/s]"
      ]
     },
     "metadata": {},
     "output_type": "display_data"
    },
    {
     "name": "stdout",
     "output_type": "stream",
     "text": [
      "Starting Epoch: 2 / 5\n"
     ]
    },
    {
     "data": {
      "application/vnd.jupyter.widget-view+json": {
       "model_id": "602d9e5a024243aca8d2ead3a7e29fd7",
       "version_major": 2,
       "version_minor": 0
      },
      "text/plain": [
       "  0%|          | 0/782 [00:00<?, ?batch/s]"
      ]
     },
     "metadata": {},
     "output_type": "display_data"
    },
    {
     "name": "stdout",
     "output_type": "stream",
     "text": [
      "Starting Epoch: 3 / 5\n"
     ]
    },
    {
     "data": {
      "application/vnd.jupyter.widget-view+json": {
       "model_id": "5cfaf509447142258e852065984ce79d",
       "version_major": 2,
       "version_minor": 0
      },
      "text/plain": [
       "  0%|          | 0/782 [00:00<?, ?batch/s]"
      ]
     },
     "metadata": {},
     "output_type": "display_data"
    },
    {
     "name": "stdout",
     "output_type": "stream",
     "text": [
      "Starting Epoch: 4 / 5\n"
     ]
    },
    {
     "data": {
      "application/vnd.jupyter.widget-view+json": {
       "model_id": "d41f8dc1f9024a1f9d9f422ad93468e8",
       "version_major": 2,
       "version_minor": 0
      },
      "text/plain": [
       "  0%|          | 0/782 [00:00<?, ?batch/s]"
      ]
     },
     "metadata": {},
     "output_type": "display_data"
    },
    {
     "name": "stdout",
     "output_type": "stream",
     "text": [
      "Starting Epoch: 5 / 5\n"
     ]
    },
    {
     "data": {
      "application/vnd.jupyter.widget-view+json": {
       "model_id": "3db934c83835474996ec2494f89b33d8",
       "version_major": 2,
       "version_minor": 0
      },
      "text/plain": [
       "  0%|          | 0/782 [00:00<?, ?batch/s]"
      ]
     },
     "metadata": {},
     "output_type": "display_data"
    }
   ],
   "source": [
    "torch.manual_seed(123)\n",
    "net = MLP(num_hidden=16, num_classes=2, input_size=(1, 16, 16))\n",
    "ds_train = pattern.PatternDataset(\n",
    "    num_samples=100000,\n",
    "    seed=123,\n",
    "    max_errors=3,\n",
    "    max_x_y_shift=1,\n",
    "    transform=image_transforms,\n",
    ")\n",
    "dl_train = torch.utils.data.DataLoader(\n",
    "    ds_train, batch_size=128, shuffle=True, num_workers=4\n",
    ")\n",
    "optimizer = torch.optim.SGD(net.parameters(), lr=1e-1, weight_decay=1e-3)\n",
    "total_epochs = 5\n",
    "for epoch in range(0, total_epochs):\n",
    "    print(f\"Starting Epoch: {epoch + 1} / {total_epochs}\")\n",
    "    train_one_epoch(dl_train, net, optimizer, loss_fn)"
   ]
  },
  {
   "cell_type": "code",
   "execution_count": 29,
   "metadata": {},
   "outputs": [
    {
     "data": {
      "image/png": "[encoded data removed]",
      "text/plain": [
       "<Figure size 1200x1200 with 1 Axes>"
      ]
     },
     "metadata": {},
     "output_type": "display_data"
    }
   ],
   "source": [
    "visualize_weights(net.hidden.weight, scale_each=False)"
   ]
  },
  {
   "cell_type": "markdown",
   "metadata": {},
   "source": [
    "This is already a bit more difficult to interpret!"
   ]
  },
  {
   "cell_type": "markdown",
   "metadata": {},
   "source": [
    "## 4) Let's try somethig more crazy!\n",
    "\n",
    "We extend the images and place each pattern in a random quarant."
   ]
  },
  {
   "cell_type": "code",
   "execution_count": 30,
   "metadata": {},
   "outputs": [
    {
     "data": {
      "text/plain": [
       "<torch._C.Generator at 0x2173bd47990>"
      ]
     },
     "execution_count": 30,
     "metadata": {},
     "output_type": "execute_result"
    }
   ],
   "source": [
    "from dl_cv_lectures.transform import RandomQuadrantPad\n",
    "\n",
    "torch.manual_seed(123)\n",
    "ds_train = pattern.PatternDataset(\n",
    "    num_samples=100000,\n",
    "    seed=123,\n",
    "    max_errors=3,\n",
    "    max_x_y_shift=0,\n",
    "    transform=transforms.Compose(\n",
    "        [\n",
    "            transforms.ToTensor(),\n",
    "            RandomQuadrantPad(),\n",
    "            transforms.Lambda(lambda x: TF.to_pil_image(x)),\n",
    "        ]\n",
    "    ),\n",
    ")"
   ]
  },
  {
   "cell_type": "code",
   "execution_count": 31,
   "metadata": {},
   "outputs": [
    {
     "data": {
      "image/png": "[encoded data removed]",
      "text/plain": [
       "<Figure size 800x800 with 16 Axes>"
      ]
     },
     "metadata": {},
     "output_type": "display_data"
    }
   ],
   "source": [
    "images, labels = get_images_and_labels_from_ds(ds_train, num_images_to_fetch=16)\n",
    "\n",
    "fig, ax = visualize.plot_square_collage_with_captions(\n",
    "    images, [f\"Label: {label}\" for label in labels], global_normalize=True\n",
    ")\n",
    "plt.tight_layout()"
   ]
  },
  {
   "cell_type": "markdown",
   "metadata": {},
   "source": [
    "**Question**: What do you think happens here?"
   ]
  },
  {
   "cell_type": "code",
   "execution_count": 32,
   "metadata": {},
   "outputs": [
    {
     "data": {
      "text/plain": [
       "<torch._C.Generator at 0x2173bd47990>"
      ]
     },
     "execution_count": 32,
     "metadata": {},
     "output_type": "execute_result"
    },
    {
     "name": "stdout",
     "output_type": "stream",
     "text": [
      "Starting Epoch: 1 / 5\n"
     ]
    },
    {
     "data": {
      "application/vnd.jupyter.widget-view+json": {
       "model_id": "9e8a84f49ad24eb6b2d1f5df5061c8c8",
       "version_major": 2,
       "version_minor": 0
      },
      "text/plain": [
       "  0%|          | 0/782 [00:00<?, ?batch/s]"
      ]
     },
     "metadata": {},
     "output_type": "display_data"
    },
    {
     "name": "stdout",
     "output_type": "stream",
     "text": [
      "Starting Epoch: 2 / 5\n"
     ]
    },
    {
     "data": {
      "application/vnd.jupyter.widget-view+json": {
       "model_id": "c434a2211d7d40408a9754faa2e6638d",
       "version_major": 2,
       "version_minor": 0
      },
      "text/plain": [
       "  0%|          | 0/782 [00:00<?, ?batch/s]"
      ]
     },
     "metadata": {},
     "output_type": "display_data"
    },
    {
     "name": "stdout",
     "output_type": "stream",
     "text": [
      "Starting Epoch: 3 / 5\n"
     ]
    },
    {
     "data": {
      "application/vnd.jupyter.widget-view+json": {
       "model_id": "4a0cdf94c85a4f3ebd0605f91c8ebd27",
       "version_major": 2,
       "version_minor": 0
      },
      "text/plain": [
       "  0%|          | 0/782 [00:00<?, ?batch/s]"
      ]
     },
     "metadata": {},
     "output_type": "display_data"
    },
    {
     "name": "stdout",
     "output_type": "stream",
     "text": [
      "Starting Epoch: 4 / 5\n"
     ]
    },
    {
     "data": {
      "application/vnd.jupyter.widget-view+json": {
       "model_id": "839798d4a9924a9fb9630fc42701766f",
       "version_major": 2,
       "version_minor": 0
      },
      "text/plain": [
       "  0%|          | 0/782 [00:00<?, ?batch/s]"
      ]
     },
     "metadata": {},
     "output_type": "display_data"
    },
    {
     "name": "stdout",
     "output_type": "stream",
     "text": [
      "Starting Epoch: 5 / 5\n"
     ]
    },
    {
     "data": {
      "application/vnd.jupyter.widget-view+json": {
       "model_id": "7fb3bea1d0ad4357b1f642b2e0e8eec4",
       "version_major": 2,
       "version_minor": 0
      },
      "text/plain": [
       "  0%|          | 0/782 [00:00<?, ?batch/s]"
      ]
     },
     "metadata": {},
     "output_type": "display_data"
    }
   ],
   "source": [
    "torch.manual_seed(123)\n",
    "net = MLP(num_hidden=16, num_classes=2, input_size=(1, 16 * 2, 16 * 2))\n",
    "ds_train = pattern.PatternDataset(\n",
    "    num_samples=100000,\n",
    "    seed=123,\n",
    "    max_errors=3,\n",
    "    max_x_y_shift=0,\n",
    "    transform=transforms.Compose(\n",
    "        [\n",
    "            transforms.ToTensor(),\n",
    "            RandomQuadrantPad(),\n",
    "        ]\n",
    "    ),\n",
    ")\n",
    "dl_train = torch.utils.data.DataLoader(\n",
    "    ds_train, batch_size=128, shuffle=True, num_workers=4\n",
    ")\n",
    "optimizer = torch.optim.SGD(net.parameters(), lr=1e-1, weight_decay=1e-3)\n",
    "total_epochs = 5\n",
    "for epoch in range(0, total_epochs):\n",
    "    print(f\"Starting Epoch: {epoch + 1} / {total_epochs}\")\n",
    "    train_one_epoch(dl_train, net, optimizer, loss_fn)"
   ]
  },
  {
   "cell_type": "code",
   "execution_count": 33,
   "metadata": {},
   "outputs": [
    {
     "data": {
      "image/png": "[encoded data removed]",
      "text/plain": [
       "<Figure size 1200x1200 with 1 Axes>"
      ]
     },
     "metadata": {},
     "output_type": "display_data"
    }
   ],
   "source": [
    "visualize_weights(net.hidden.weight, scale_each=False)"
   ]
  },
  {
   "cell_type": "markdown",
   "metadata": {},
   "source": [
    "## 5) What happens if we increase the positional uncertainty?\n",
    "\n",
    "Let's randomly shift the pattern by up to 3 pixels."
   ]
  },
  {
   "cell_type": "code",
   "execution_count": 34,
   "metadata": {},
   "outputs": [
    {
     "data": {
      "text/plain": [
       "<torch._C.Generator at 0x2173bd47990>"
      ]
     },
     "execution_count": 34,
     "metadata": {},
     "output_type": "execute_result"
    },
    {
     "data": {
      "image/png": "[encoded data removed]",
      "text/plain": [
       "<Figure size 800x800 with 16 Axes>"
      ]
     },
     "metadata": {},
     "output_type": "display_data"
    }
   ],
   "source": [
    "torch.manual_seed(123)\n",
    "ds_train = pattern.PatternDataset(\n",
    "    num_samples=100000,\n",
    "    seed=123,\n",
    "    max_errors=3,\n",
    "    max_x_y_shift=3,\n",
    "    transform=transforms.Compose(\n",
    "        [\n",
    "            transforms.ToTensor(),\n",
    "            RandomQuadrantPad(),\n",
    "            transforms.Lambda(lambda x: TF.to_pil_image(x)),\n",
    "        ]\n",
    "    ),\n",
    ")\n",
    "\n",
    "images, labels = get_images_and_labels_from_ds(ds_train, num_images_to_fetch=16)\n",
    "\n",
    "fig, ax = visualize.plot_square_collage_with_captions(\n",
    "    images, [f\"Label: {label}\" for label in labels], global_normalize=True\n",
    ")\n",
    "plt.tight_layout()"
   ]
  },
  {
   "cell_type": "markdown",
   "metadata": {},
   "source": [
    "We switch to the Adam optimizer which is often much faster and needs less care tuning learning rates."
   ]
  },
  {
   "cell_type": "code",
   "execution_count": 35,
   "metadata": {},
   "outputs": [
    {
     "data": {
      "text/plain": [
       "<torch._C.Generator at 0x2173bd47990>"
      ]
     },
     "execution_count": 35,
     "metadata": {},
     "output_type": "execute_result"
    },
    {
     "name": "stdout",
     "output_type": "stream",
     "text": [
      "Starting Epoch: 1 / 5\n"
     ]
    },
    {
     "data": {
      "application/vnd.jupyter.widget-view+json": {
       "model_id": "8057932e35e54db5a36440079a9cc97d",
       "version_major": 2,
       "version_minor": 0
      },
      "text/plain": [
       "  0%|          | 0/782 [00:00<?, ?batch/s]"
      ]
     },
     "metadata": {},
     "output_type": "display_data"
    },
    {
     "name": "stdout",
     "output_type": "stream",
     "text": [
      "Starting Epoch: 2 / 5\n"
     ]
    },
    {
     "data": {
      "application/vnd.jupyter.widget-view+json": {
       "model_id": "994d0589460f4773a8716fc056746f91",
       "version_major": 2,
       "version_minor": 0
      },
      "text/plain": [
       "  0%|          | 0/782 [00:00<?, ?batch/s]"
      ]
     },
     "metadata": {},
     "output_type": "display_data"
    },
    {
     "name": "stdout",
     "output_type": "stream",
     "text": [
      "Starting Epoch: 3 / 5\n"
     ]
    },
    {
     "data": {
      "application/vnd.jupyter.widget-view+json": {
       "model_id": "8f0653a603f245db84670670bfb11635",
       "version_major": 2,
       "version_minor": 0
      },
      "text/plain": [
       "  0%|          | 0/782 [00:00<?, ?batch/s]"
      ]
     },
     "metadata": {},
     "output_type": "display_data"
    },
    {
     "name": "stdout",
     "output_type": "stream",
     "text": [
      "Starting Epoch: 4 / 5\n"
     ]
    },
    {
     "data": {
      "application/vnd.jupyter.widget-view+json": {
       "model_id": "37839affaae54058aae8760493ca1ff9",
       "version_major": 2,
       "version_minor": 0
      },
      "text/plain": [
       "  0%|          | 0/782 [00:00<?, ?batch/s]"
      ]
     },
     "metadata": {},
     "output_type": "display_data"
    },
    {
     "name": "stdout",
     "output_type": "stream",
     "text": [
      "Starting Epoch: 5 / 5\n"
     ]
    },
    {
     "data": {
      "application/vnd.jupyter.widget-view+json": {
       "model_id": "4331faaadb5c462c8809a26de8b8a2c4",
       "version_major": 2,
       "version_minor": 0
      },
      "text/plain": [
       "  0%|          | 0/782 [00:00<?, ?batch/s]"
      ]
     },
     "metadata": {},
     "output_type": "display_data"
    }
   ],
   "source": [
    "torch.manual_seed(123)\n",
    "net = MLP(num_hidden=16, num_classes=2, input_size=(1, 16 * 2, 16 * 2))\n",
    "ds_train = pattern.PatternDataset(\n",
    "    num_samples=100000,\n",
    "    seed=123,\n",
    "    max_errors=3,\n",
    "    max_x_y_shift=3,\n",
    "    transform=transforms.Compose(\n",
    "        [\n",
    "            transforms.ToTensor(),\n",
    "            RandomQuadrantPad(),\n",
    "        ]\n",
    "    ),\n",
    ")\n",
    "dl_train = torch.utils.data.DataLoader(\n",
    "    ds_train, batch_size=128, shuffle=True, num_workers=4\n",
    ")\n",
    "optimizer = torch.optim.Adam(net.parameters())\n",
    "total_epochs = 5\n",
    "for epoch in range(0, total_epochs):\n",
    "    print(f\"Starting Epoch: {epoch + 1} / {total_epochs}\")\n",
    "    train_one_epoch(dl_train, net, optimizer, loss_fn)"
   ]
  },
  {
   "cell_type": "markdown",
   "metadata": {},
   "source": [
    "**Question**: What do you observe?"
   ]
  },
  {
   "cell_type": "code",
   "execution_count": 36,
   "metadata": {},
   "outputs": [
    {
     "data": {
      "image/png": "[encoded data removed]",
      "text/plain": [
       "<Figure size 1200x1200 with 1 Axes>"
      ]
     },
     "metadata": {},
     "output_type": "display_data"
    }
   ],
   "source": [
    "visualize_weights(net.hidden.weight, scale_each=False)"
   ]
  },
  {
   "cell_type": "markdown",
   "metadata": {},
   "source": [
    "## 6) A Peek Ahead: What happens if we choose a CNN?\n",
    "\n",
    "Finally! Let's ditch the MLP.\n",
    "\n",
    "The following CNN is deeper but has 10 times fewer parameters."
   ]
  },
  {
   "cell_type": "code",
   "execution_count": 37,
   "metadata": {},
   "outputs": [],
   "source": [
    "import torch\n",
    "import torch.nn as nn\n",
    "import torch.nn.functional as F\n",
    "\n",
    "\n",
    "class SmallCNN(nn.Module):\n",
    "    def __init__(self, kernel_size: int, num_classes=10, num_filters=16):\n",
    "        super(SmallCNN, self).__init__()\n",
    "\n",
    "        padding = kernel_size // 2\n",
    "\n",
    "        # First convolutional layer: 1 input channel (grayscale), 16 output channels, 3x3 kernel\n",
    "        self.conv1 = nn.Conv2d(\n",
    "            in_channels=1,\n",
    "            out_channels=num_filters,\n",
    "            kernel_size=kernel_size,\n",
    "            padding=padding,\n",
    "        )\n",
    "\n",
    "        # Second convolutional layer: 16 input channels, 32 output channels, 3x3 kernel\n",
    "        self.conv2 = nn.Conv2d(\n",
    "            in_channels=num_filters,\n",
    "            out_channels=num_filters * 2,\n",
    "            kernel_size=kernel_size,\n",
    "            padding=padding,\n",
    "        )\n",
    "\n",
    "        # Third convolutional layer: 32 input channels, 64 output channels, 3x3 kernel\n",
    "        self.conv3 = nn.Conv2d(\n",
    "            in_channels=num_filters * 2,\n",
    "            out_channels=num_filters * 4,\n",
    "            kernel_size=kernel_size,\n",
    "            padding=padding,\n",
    "        )\n",
    "\n",
    "        # Max pooling layer\n",
    "        self.pool = nn.MaxPool2d(kernel_size=2, stride=2)\n",
    "\n",
    "        # Global Average Pooling\n",
    "        self.gap = nn.AdaptiveAvgPool2d((1, 1))  # Output size is 1x1 per feature map\n",
    "\n",
    "        # Final output layer\n",
    "        self.fc = nn.Linear(in_features=num_filters * 4, out_features=num_classes)\n",
    "\n",
    "    def forward(self, x):\n",
    "        # First conv layer with ReLU\n",
    "        x = F.relu(self.conv1(x))\n",
    "        # Second conv layer with ReLU and max pooling\n",
    "        x = self.pool(F.relu(self.conv2(x)))\n",
    "        # Third conv layer with ReLU and max pooling\n",
    "        x = self.pool(F.relu(self.conv3(x)))\n",
    "\n",
    "        # Global Average Pooling (GAP)\n",
    "        x = self.gap(x)  # Shape will be (batch_size, 64, 1, 1)\n",
    "\n",
    "        # Flatten the GAP output to feed into the fully connected layer\n",
    "        x = torch.flatten(x, 1)  # Shape (batch_size, 64)\n",
    "\n",
    "        # Final fully connected layer (acts as the output layer)\n",
    "        x = self.fc(x)  # Shape (batch_size, num_classes)\n",
    "\n",
    "        return x"
   ]
  },
  {
   "cell_type": "code",
   "execution_count": 38,
   "metadata": {},
   "outputs": [
    {
     "name": "stdout",
     "output_type": "stream",
     "text": [
      "==========================================================================================\n",
      "Layer (type:depth-idx)                   Output Shape              Param #\n",
      "==========================================================================================\n",
      "SmallCNN                                 [1, 2]                    --\n",
      "├─Conv2d: 1-1                            [1, 2, 32, 32]            20\n",
      "├─Conv2d: 1-2                            [1, 4, 32, 32]            76\n",
      "├─MaxPool2d: 1-3                         [1, 4, 16, 16]            --\n",
      "├─Conv2d: 1-4                            [1, 8, 16, 16]            296\n",
      "├─MaxPool2d: 1-5                         [1, 8, 8, 8]              --\n",
      "├─AdaptiveAvgPool2d: 1-6                 [1, 8, 1, 1]              --\n",
      "├─Linear: 1-7                            [1, 2]                    18\n",
      "==========================================================================================\n",
      "Total params: 410\n",
      "Trainable params: 410\n",
      "Non-trainable params: 0\n",
      "Total mult-adds (Units.MEGABYTES): 0.17\n",
      "==========================================================================================\n",
      "Input size (MB): 0.00\n",
      "Forward/backward pass size (MB): 0.07\n",
      "Params size (MB): 0.00\n",
      "Estimated Total Size (MB): 0.07\n",
      "==========================================================================================\n"
     ]
    }
   ],
   "source": [
    "net = SmallCNN(kernel_size=3, num_classes=2, num_filters=2)\n",
    "print(torchinfo.summary(net, input_size=(1, 1, 16 * 2, 16 * 2)))"
   ]
  },
  {
   "cell_type": "code",
   "execution_count": 39,
   "metadata": {},
   "outputs": [
    {
     "data": {
      "text/plain": [
       "<torch._C.Generator at 0x2173bd47990>"
      ]
     },
     "execution_count": 39,
     "metadata": {},
     "output_type": "execute_result"
    },
    {
     "name": "stdout",
     "output_type": "stream",
     "text": [
      "Starting Epoch: 1 / 3\n"
     ]
    },
    {
     "data": {
      "application/vnd.jupyter.widget-view+json": {
       "model_id": "c4eb94ceb9fa41c9b19db4b320c54089",
       "version_major": 2,
       "version_minor": 0
      },
      "text/plain": [
       "  0%|          | 0/782 [00:00<?, ?batch/s]"
      ]
     },
     "metadata": {},
     "output_type": "display_data"
    },
    {
     "name": "stdout",
     "output_type": "stream",
     "text": [
      "Starting Epoch: 2 / 3\n"
     ]
    },
    {
     "data": {
      "application/vnd.jupyter.widget-view+json": {
       "model_id": "66f5595bd2d042f0aa1b79eda20d65b5",
       "version_major": 2,
       "version_minor": 0
      },
      "text/plain": [
       "  0%|          | 0/782 [00:00<?, ?batch/s]"
      ]
     },
     "metadata": {},
     "output_type": "display_data"
    },
    {
     "name": "stdout",
     "output_type": "stream",
     "text": [
      "Starting Epoch: 3 / 3\n"
     ]
    },
    {
     "data": {
      "application/vnd.jupyter.widget-view+json": {
       "model_id": "a47118341370457f9b24901383d90b75",
       "version_major": 2,
       "version_minor": 0
      },
      "text/plain": [
       "  0%|          | 0/782 [00:00<?, ?batch/s]"
      ]
     },
     "metadata": {},
     "output_type": "display_data"
    }
   ],
   "source": [
    "torch.manual_seed(123)\n",
    "net = SmallCNN(kernel_size=3, num_classes=2, num_filters=2)\n",
    "ds_train = pattern.PatternDataset(\n",
    "    num_samples=100000,\n",
    "    seed=123,\n",
    "    max_errors=3,\n",
    "    max_x_y_shift=3,\n",
    "    transform=transforms.Compose(\n",
    "        [\n",
    "            transforms.ToTensor(),\n",
    "            RandomQuadrantPad(),\n",
    "        ]\n",
    "    ),\n",
    ")\n",
    "dl_train = torch.utils.data.DataLoader(\n",
    "    ds_train, batch_size=128, shuffle=True, num_workers=6\n",
    ")\n",
    "optimizer = torch.optim.Adam(net.parameters())\n",
    "total_epochs = 3\n",
    "for epoch in range(0, total_epochs):\n",
    "    print(f\"Starting Epoch: {epoch + 1} / {total_epochs}\")\n",
    "    train_one_epoch(dl_train, net, optimizer, loss_fn)"
   ]
  },
  {
   "cell_type": "markdown",
   "metadata": {},
   "source": [
    "The CNN uses only two filters in the first layer, which we can visualize:"
   ]
  },
  {
   "cell_type": "code",
   "execution_count": 40,
   "metadata": {},
   "outputs": [
    {
     "name": "stderr",
     "output_type": "stream",
     "text": [
      "c:\\Users\\viety\\OneDrive\\Desktop\\Studium\\5.Semester\\bverl\\bveri-exercises-hs2024\\.venv\\Lib\\site-packages\\torchshow\\visualization.py:388: UserWarning: Original input range is not 0-1 when using grayscale mode. Auto-rescaling it to 0-1 by default.\n",
      "  warnings.warn('Original input range is not 0-1 when using grayscale mode. Auto-rescaling it to 0-1 by default.')\n"
     ]
    },
    {
     "data": {
      "image/png": "[encoded data removed]",
      "text/plain": [
       "<Figure size 640x480 with 2 Axes>"
      ]
     },
     "metadata": {},
     "output_type": "display_data"
    }
   ],
   "source": [
    "ts.show(net.conv1.weight)"
   ]
  }
 ],
 "metadata": {
  "kernelspec": {
   "display_name": ".venv",
   "language": "python",
   "name": "python3"
  },
  "language_info": {
   "codemirror_mode": {
    "name": "ipython",
    "version": 3
   },
   "file_extension": ".py",
   "mimetype": "text/x-python",
   "name": "python",
   "nbconvert_exporter": "python",
   "pygments_lexer": "ipython3",
   "version": "3.11.5"
  }
 },
 "nbformat": 4,
 "nbformat_minor": 4
}
